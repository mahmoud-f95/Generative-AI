{
 "cells": [
  {
   "cell_type": "code",
   "execution_count": 7,
   "metadata": {},
   "outputs": [],
   "source": [
    "import requests\n",
    "import pandas as pd\n",
    "\n",
    "from datetime import datetime\n",
    "\n",
    "from openai import OpenAI\n",
    "from bs4 import BeautifulSoup\n",
    "import html5lib"
   ]
  },
  {
   "cell_type": "code",
   "execution_count": 2,
   "metadata": {},
   "outputs": [],
   "source": [
    "client = OpenAI(\n",
    "    api_key=\"\" # PUT YOUR API KEY HERE\n",
    ")"
   ]
  },
  {
   "cell_type": "code",
   "execution_count": 11,
   "metadata": {},
   "outputs": [],
   "source": [
    "# Cole Palmer\n",
    "player_name = 'Cole Palmer'\n",
    "url = 'https://fbref.com/en/players/dc7f8a28/Cole-Palmer'\n",
    "attrs = 'scout_summary_AM'\n",
    "\n",
    "\n",
    "\n",
    "\n",
    "df = pd.read_html(\n",
    "    url, \n",
    "    attrs={'id': attrs} # Change the id & class to correspond to the table\n",
    ")[0]"
   ]
  },
  {
   "cell_type": "code",
   "execution_count": 13,
   "metadata": {},
   "outputs": [],
   "source": [
    "response = requests.get(url)\n",
    "soup = BeautifulSoup(response.text, 'html.parser')"
   ]
  },
  {
   "cell_type": "code",
   "execution_count": 22,
   "metadata": {},
   "outputs": [
    {
     "data": {
      "text/plain": [
       "'Chelsea'"
      ]
     },
     "execution_count": 22,
     "metadata": {},
     "output_type": "execute_result"
    }
   ],
   "source": [
    "# Get the player's age, team, league, and position\n",
    "position = soup.select_one('p:-soup-contains(\"Position\")').text.split('▪')[0].split(':')[1].strip()\n",
    "birthday = soup.select_one('span[id=\"necro-birth\"]').text.strip()\n",
    "# get the player's age\n",
    "age = (datetime.now() - datetime.strptime(birthday, '%B %d, %Y')).days // 365\n",
    "team = soup.select_one('p:-soup-contains(\"Club\")').text.split(':')[-1].strip()"
   ]
  },
  {
   "cell_type": "code",
   "execution_count": 27,
   "metadata": {},
   "outputs": [],
   "source": [
    "prompt = f\"\"\"\n",
    "\n",
    "I need you to create a scouting report on {player_name}. Can you provide me with a summary of their strengths and weaknesses?\n",
    "\n",
    "Here is the data I have on him:\n",
    "\n",
    "Player: {player_name}\n",
    "Position: {position}\n",
    "Age: {age}\n",
    "Team: {team}\n",
    "\n",
    "{df.to_markdown()}\n",
    "\n",
    "\n",
    "Return the scouting report in the following markdown format:\n",
    "\n",
    "# Scouting Report for {player_name}\n",
    "\n",
    "## Strengths\n",
    "< a list of 1 to 3 strengths >\n",
    "\n",
    "## Weaknesses\n",
    "< a list of 1 to 3 weaknesses >\n",
    "\n",
    "## Summary\n",
    "< a brief summary of the player's overall performance and if he would be beneficial to the team or atleast a good investment for a future sell >\n",
    "\"\"\""
   ]
  },
  {
   "cell_type": "code",
   "execution_count": 31,
   "metadata": {},
   "outputs": [],
   "source": [
    "response = client.chat.completions.create(\n",
    "    model=\"gpt-4-turbo\",\n",
    "    messages=[\n",
    "        {\"role\": \"system\", \"content\": \"You are a professional football (soccer) scout.\"},\n",
    "        {\"role\": \"user\", \"content\": prompt},\n",
    "    ],\n",
    ")"
   ]
  },
  {
   "cell_type": "code",
   "execution_count": 32,
   "metadata": {},
   "outputs": [
    {
     "name": "stdout",
     "output_type": "stream",
     "text": [
      "# Scouting Report for Cole Palmer\n",
      "\n",
      "## Strengths\n",
      "- **Scoring and Playmaking Abilities**: Cole Palmer exhibits a strong scoring ability, shown by his high percentile in Non-Penalty Goals (89th) and Non-Penalty xG (96th). His potential for providing assists is also impressive, ranking in the 94th percentile with a similar percentile in expected assisted goals.\n",
      "- **Shooting Volume and Precision**: His ability to take shots is among the best, with a total shots per 90 in the 91st percentile. This, combined with his solid pass completion percentage and number of progressive passes, allows him to consistently position himself as a scoring threat.\n",
      "- **Creative Output**: Palmer is highly creative, as evidenced by his shot-creating actions per 90 in the 90th percentile and xG+xA in the 96th percentile. His proficiency in creating and taking part in offensive plays is a significant asset.\n",
      "\n",
      "## Weaknesses\n",
      "- **Physical and Defensive Contributions**: His physical presence in duels and aerial contests is notably low, with aerials won in the 2nd percentile. Defensively, his contribution in terms of tackles and blocks is also minimal.\n",
      "- **Receiving Progressive Passes**: Despite his ability to progress the ball, Palmer ranks poorly in receiving progressive passes (31st percentile), suggesting a potential area for improvement in terms of positioning or involvement in the build-up play.\n",
      "\n",
      "## Summary\n",
      "Cole Palmer is a forward/midfielder with exceptional abilities in attacking roles, particularly evident in his shooting, goal-scoring, and assist statistics. His creative outputs place him as a key offensive asset for any team. However, his physical contributions in defensive aspects and aerial duels are areas that might require attention, depending on the tactical needs of the team. Given his high potential in offensive metrics, Palmer would not only be a beneficial addition to teams looking to enhance their attacking prowess but also represents a promising investment for future sell, provided he continues to develop and maybe rounds out some of his weaker areas. His current productivity in front of the goal and in creating chances makes him a valuable player for any top-tier club.\n"
     ]
    }
   ],
   "source": [
    "print(response.choices[0].message.content)"
   ]
  }
 ],
 "metadata": {
  "kernelspec": {
   "display_name": "Python 3",
   "language": "python",
   "name": "python3"
  },
  "language_info": {
   "codemirror_mode": {
    "name": "ipython",
    "version": 3
   },
   "file_extension": ".py",
   "mimetype": "text/x-python",
   "name": "python",
   "nbconvert_exporter": "python",
   "pygments_lexer": "ipython3",
   "version": "3.10.12"
  }
 },
 "nbformat": 4,
 "nbformat_minor": 2
}
